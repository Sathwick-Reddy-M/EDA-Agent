{
 "cells": [
  {
   "cell_type": "markdown",
   "id": "5afcab40",
   "metadata": {},
   "source": [
    "# What is LangGraph?\n",
    "\n",
    "LangGraph gives you a stateful workflow backbone. Instead of treating an agent like a single prompt that must do everything, you model the process explicitly and persist its memory. A central state holds conversation context, plans, intermediate results, tool outputs, any errors or any relevant details you require in your case. Because that state is durable, the system can remember what happened, checkpoint after each step, and resume or “time-travel” for debugging. The result is tight control over side effects (tools, APIs, docs), reliable retries, and clear places to involve a human when needed.\n",
    "\n",
    "Work is represented as a graph where nodes are small, focused workers and edges define the playbook. Each node reads the current state and returns a patch—only the fields it owns—so changes are localized and predictable. Reducers merge those patches into the central state, making every update auditable. Nodes can call LLMs, invoke tools, score outputs, or transform data; edges determine who runs next, not the model.\n",
    "\n",
    "Control flow is explicit. You can chain fixed edges for linear steps, branch with conditional edges based on what’s in state, loop until a quality threshold is reached, or fan-out parallel tasks and fan-in their results. Checkpoints are taken after each edge, so execution can pause at planned interrupts for human review and then continue from exactly the right place. Running the compiled graph with a thread identifier preserves continuity across turns and sessions while streaming node-by-node updates for observability.\n",
    "\n",
    "In practice, you might start with input → plan → route. The router inspects state to choose a research path (search → summarize) or a writing path (draft → revise), looping until quality is high enough, then handing off to a final decision node that closes the run. Throughout, each node touches only its keys, edges fire based on those keys, and the state chronicles every change. That’s how LangGraph turns “agent vibes” into a reliable, testable process: you draw the workflow, then run it, one controlled state update at a time."
   ]
  },
  {
   "cell_type": "markdown",
   "id": "4766cb64",
   "metadata": {},
   "source": [
    "# Looking the problem through the lens of a graph\n",
    "\n",
    "To understand and getting started with the lang graph easily you need to start thinking of how you can structure the solution of your problem in terms of graph with nodes and edges. (Similar to how you think of a problem in terms of classes and objects in OOP)\n",
    "\n",
    "For example, you are trying to build a system that takes number of (Some general example)\n",
    "\n",
    "More concrete real world software example\n",
    "\n",
    "Also create the diagrams for the above two systems"
   ]
  },
  {
   "cell_type": "markdown",
   "id": "59eb1571",
   "metadata": {},
   "source": [
    "# Main Components of LangGraph\n",
    "\n",
    "Node\n",
    "Edge \n",
    "    - Types of Edges - Direct, Conditional\n",
    "State\n",
    "\n",
    "Memory\n",
    "Interrupts - Input, Interrupt property\n",
    "\n",
    "Sub Graphs as Nodes"
   ]
  },
  {
   "cell_type": "markdown",
   "id": "60953ee0",
   "metadata": {},
   "source": [
    "# Nice to Knows\n",
    "\n",
    "Async\n",
    "- Show the time difference between async vs sync\n",
    "\n",
    "Map Reduce \n",
    "Parallel Flows\n",
    "\n",
    "init_chat_model"
   ]
  },
  {
   "cell_type": "code",
   "execution_count": null,
   "id": "1c43be2b",
   "metadata": {},
   "outputs": [],
   "source": []
  }
 ],
 "metadata": {
  "language_info": {
   "name": "python"
  }
 },
 "nbformat": 4,
 "nbformat_minor": 5
}
