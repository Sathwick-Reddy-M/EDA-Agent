{
 "cells": [
  {
   "cell_type": "markdown",
   "id": "aec2a38f",
   "metadata": {},
   "source": [
    "# Problem it solves\n",
    " - When to use & When not to use\n",
    "\n",
    "# Main Agent\n",
    "# Coding Agent\n",
    "# Plotting Agent\n",
    "\n",
    "# Final Graph\n",
    "\n",
    "# Conclusion"
   ]
  },
  {
   "cell_type": "markdown",
   "id": "d53943b4",
   "metadata": {},
   "source": []
  }
 ],
 "metadata": {
  "language_info": {
   "name": "python"
  }
 },
 "nbformat": 4,
 "nbformat_minor": 5
}
